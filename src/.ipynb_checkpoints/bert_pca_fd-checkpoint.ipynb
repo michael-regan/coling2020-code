{
 "cells": [
  {
   "cell_type": "code",
   "execution_count": 14,
   "metadata": {},
   "outputs": [],
   "source": [
    "import json\n",
    "import torch\n",
    "import pandas as pd\n",
    "from transformers import *\n",
    "\n",
    "device = torch.device('cuda' if torch.cuda.is_available() else 'cpu')"
   ]
  },
  {
   "cell_type": "code",
   "execution_count": 17,
   "metadata": {},
   "outputs": [],
   "source": [
    "path = '/nfs/research/regan/data_propara/data/corenlp_fd_physical_completed.json'"
   ]
  },
  {
   "cell_type": "code",
   "execution_count": 90,
   "metadata": {},
   "outputs": [
    {
     "data": {
      "text/plain": [
       "{'vnclass': 'bump-18.4',\n",
       " 'syntax': 'Sbj V PathP',\n",
       " 'fd1': 'Autonomous',\n",
       " 'fd2': 'Place',\n",
       " 'fd3': '',\n",
       " 'example': 'The grocery cart hit against the wall',\n",
       " 'domain': 'Physical',\n",
       " 'pred_calc': '+MER(grocery cart) & PTH(grocery cart,wall)',\n",
       " 'features': [{'text': 'The',\n",
       "   'dep': 'det',\n",
       "   'head': '3',\n",
       "   'lemma': 'the',\n",
       "   'children': [],\n",
       "   'index': '1',\n",
       "   'type': 'O',\n",
       "   'pos': 'DT'},\n",
       "  {'text': 'grocery',\n",
       "   'dep': 'compound',\n",
       "   'head': '3',\n",
       "   'lemma': 'grocery',\n",
       "   'children': [],\n",
       "   'index': '2',\n",
       "   'type': 'O',\n",
       "   'pos': 'NN'},\n",
       "  {'text': 'cart',\n",
       "   'dep': 'nsubj',\n",
       "   'head': '4',\n",
       "   'lemma': 'cart',\n",
       "   'children': ['The', 'grocery'],\n",
       "   'index': '3',\n",
       "   'type': 'O',\n",
       "   'pos': 'NN',\n",
       "   'q_value': '+MER',\n",
       "   'fd_relation': 'PTH',\n",
       "   'fd_subsequent': '7',\n",
       "   'subevent_aspect': 'CycAch'},\n",
       "  {'text': 'hit',\n",
       "   'dep': 'ROOT',\n",
       "   'head': '0',\n",
       "   'lemma': 'hit',\n",
       "   'children': ['cart', 'wall'],\n",
       "   'index': '4',\n",
       "   'type': 'O',\n",
       "   'pos': 'VBD',\n",
       "   'vnclass': '18.4'},\n",
       "  {'text': 'against',\n",
       "   'dep': 'case',\n",
       "   'head': '7',\n",
       "   'lemma': 'against',\n",
       "   'children': [],\n",
       "   'index': '5',\n",
       "   'type': 'O',\n",
       "   'pos': 'IN'},\n",
       "  {'text': 'the',\n",
       "   'dep': 'det',\n",
       "   'head': '7',\n",
       "   'lemma': 'the',\n",
       "   'children': [],\n",
       "   'index': '6',\n",
       "   'type': 'O',\n",
       "   'pos': 'DT'},\n",
       "  {'text': 'wall',\n",
       "   'dep': 'nmod',\n",
       "   'head': '4',\n",
       "   'lemma': 'wall',\n",
       "   'children': ['against', 'the'],\n",
       "   'index': '7',\n",
       "   'type': 'O',\n",
       "   'pos': 'NN',\n",
       "   'subevent_aspect': 'InhStPh',\n",
       "   'q_value': 'EXIST',\n",
       "   'fd_relation': ''}],\n",
       " 'sentence': 'The grocery cart hit against the wall',\n",
       " 'full_pred_calc': 'Theme-of(x,e) & Component-of(a,cart) & Component-of(b,wall) & CycAch(a,i,j,q1) & InhStPh(b,i,k,q2) & +MER(q1) & EXIST(q2) & PTH(a,b)',\n",
       " 'aspect': 'CyclicAchievement'}"
      ]
     },
     "execution_count": 90,
     "metadata": {},
     "output_type": "execute_result"
    }
   ],
   "source": [
    "with open(path, 'r') as f:\n",
    "    data = json.load(f)\n",
    "len(data)\n",
    "data[\"664\"]"
   ]
  },
  {
   "cell_type": "code",
   "execution_count": 94,
   "metadata": {},
   "outputs": [
    {
     "name": "stdout",
     "output_type": "stream",
     "text": [
      "1136 Doug cleaned the dishes from the table\n",
      "1142 Doug removed the smudges\n",
      "1143 Doug removed the smudges from the tabletop\n",
      "1167 Doug cleaned the table of dishes\n"
     ]
    }
   ],
   "source": [
    "for k, v in data.items():\n",
    "    if \"Doug\" in v[\"example\"]:\n",
    "        print(k, v[\"example\"])"
   ]
  },
  {
   "cell_type": "code",
   "execution_count": 141,
   "metadata": {},
   "outputs": [
    {
     "data": {
      "text/plain": [
       "{'cc': [{'text': 'jeweler', 'q_value': 'VOL', 'index': 2, 'fd_subsequent': 6},\n",
       "  {'text': 'NI1', 'q_value': 'INTL', 'index': 6, 'fd_subsequent': 5},\n",
       "  {'text': 'ring', 'q_value': '+MER', 'index': 5}],\n",
       " 'sentence': 'The jeweler decorated the ring',\n",
       " 'syntax': 'Sbj V Obj',\n",
       " 'fd': 'Volitional Provide'}"
      ]
     },
     "execution_count": 141,
     "metadata": {},
     "output_type": "execute_result"
    }
   ],
   "source": [
    "def create_causal_chain(features):\n",
    "\n",
    "    for e in features:\n",
    "        if e[\"dep\"] == \"ROOT\":\n",
    "            ents_list = e[\"children\"]\n",
    "            root_index = e[\"index\"]\n",
    "            \n",
    "    entities = []\n",
    "    for e in features:\n",
    "        if e[\"text\"] in ents_list and e[\"head\"] == root_index:\n",
    "            if \"q_value\" in e:\n",
    "                entity = {\"text\": e[\"text\"], \"q_value\": e[\"q_value\"], \"index\": int(e[\"index\"])}\n",
    "                if \"fd_subsequent\" in e:\n",
    "                    if e[\"fd_subsequent\"] != \"\":\n",
    "                        entity[\"fd_subsequent\"] = int(e[\"fd_subsequent\"])\n",
    "                    \n",
    "                entities.append(entity)\n",
    "                \n",
    "    def get_preceding_element_in_causal_chain(entities, idx): \n",
    "        for e in entities:\n",
    "            if e[\"fd_subsequent\"] == idx:\n",
    "                next_index = e[\"index\"]\n",
    "                return next_index, e\n",
    "        return None, e\n",
    "        \n",
    "                \n",
    "    ordered_causal_chain = []\n",
    "    all_indices = []\n",
    "    for entity in entities:\n",
    "        if 'fd_subsequent' not in entity:\n",
    "            ordered_causal_chain.append(entity)\n",
    "            entities.remove(entity)\n",
    "            all_indices.append(entity[\"index\"])\n",
    "            \n",
    "    while all_indices:\n",
    "        idx = all_indices.pop(0)\n",
    "        \n",
    "        for entity in entities:\n",
    "            if entity not in ordered_causal_chain:\n",
    "                next_index, ele = get_preceding_element_in_causal_chain(entities, idx)\n",
    "                if next_index:\n",
    "                    all_indices.append(next_index)\n",
    "                ordered_causal_chain.insert(0, ele)\n",
    "    \n",
    "    return ordered_causal_chain\n",
    "\n",
    "all_items = []\n",
    "\n",
    "for k, v in data.items():\n",
    "\n",
    "    cc = create_causal_chain(v[\"features\"])\n",
    "    fd = v[\"fd1\"] + \" \" + v[\"fd2\"]\n",
    "    if v[\"fd3\"] != \"\":\n",
    "        fd += \" \" + v[\"fd3\"]\n",
    "    item = {\"cc\": cc, \"sentence\": v[\"example\"], \"syntax\":v[\"syntax\"], \"fd\":fd}\n",
    "    all_items.append(item)\n",
    "    \n",
    "all_items[200]"
   ]
  },
  {
   "cell_type": "code",
   "execution_count": null,
   "metadata": {},
   "outputs": [],
   "source": [
    "from transformers import AutoModel, AutoTokenizer, BertTokenizer\n",
    "\n",
    "torch.set_grad_enabled(False)\n",
    "\n",
    "# Store the model we want to use\n",
    "MODEL_NAME = \"bert-base-uncased\"\n",
    "\n",
    "# We need to create the model and tokenizer\n",
    "model = AutoModel.from_pretrained(MODEL_NAME)\n",
    "tokenizer = AutoTokenizer.from_pretrained(MODEL_NAME)"
   ]
  },
  {
   "cell_type": "code",
   "execution_count": 146,
   "metadata": {},
   "outputs": [
    {
     "name": "stdout",
     "output_type": "stream",
     "text": [
      "{'cc': [{'text': 'cart', 'q_value': '+MER', 'index': 3, 'fd_subsequent': 7}, {'text': 'wall', 'q_value': 'EXIST', 'index': 7}], 'sentence': 'The grocery cart hit against the wall', 'syntax': 'Sbj V PathP', 'fd': 'Autonomous Place'}\n",
      "Tokens: ['the', 'grocery', 'cart', 'hit', 'against', 'the', 'wall']\n",
      "Tokens id: [1996, 13025, 11122, 2718, 2114, 1996, 2813]\n",
      "Tokens PyTorch: tensor([[  101,  1996, 13025, 11122,  2718,  2114,  1996,  2813,   102]])\n",
      "Token wise output: torch.Size([1, 9, 768]), Pooled output: torch.Size([1, 768])\n",
      "\n"
     ]
    }
   ],
   "source": [
    "item = all_items[0]\n",
    "print(item)\n",
    "\n",
    "# Tokens comes from a process that splits the input into sub-entities with interesting linguistic properties. \n",
    "tokens = tokenizer.tokenize(item[\"sentence\"])\n",
    "print(\"Tokens: {}\".format(tokens))\n",
    "\n",
    "# This is not sufficient for the model, as it requires integers as input, \n",
    "# not a problem, let's convert tokens to ids.\n",
    "tokens_ids = tokenizer.convert_tokens_to_ids(tokens)\n",
    "print(\"Tokens id: {}\".format(tokens_ids))\n",
    "\n",
    "# Add the required special tokens\n",
    "tokens_ids = tokenizer.build_inputs_with_special_tokens(tokens_ids)\n",
    "\n",
    "# We need to convert to a Deep Learning framework specific format, let's use PyTorch for now.\n",
    "tokens_pt = torch.tensor([tokens_ids])\n",
    "print(\"Tokens PyTorch: {}\".format(tokens_pt))\n",
    "\n",
    "# Now we're ready to go through BERT with out input\n",
    "outputs, pooled = model(tokens_pt)\n",
    "print(\"Token wise output: {}, Pooled output: {}\".format(outputs.shape, pooled.shape))\n",
    "print()"
   ]
  },
  {
   "cell_type": "code",
   "execution_count": null,
   "metadata": {},
   "outputs": [],
   "source": []
  },
  {
   "cell_type": "code",
   "execution_count": null,
   "metadata": {},
   "outputs": [],
   "source": []
  },
  {
   "cell_type": "code",
   "execution_count": null,
   "metadata": {},
   "outputs": [],
   "source": []
  },
  {
   "cell_type": "code",
   "execution_count": null,
   "metadata": {},
   "outputs": [],
   "source": []
  },
  {
   "cell_type": "code",
   "execution_count": null,
   "metadata": {},
   "outputs": [],
   "source": []
  },
  {
   "cell_type": "code",
   "execution_count": 43,
   "metadata": {},
   "outputs": [
    {
     "data": {
      "text/plain": [
       "30522"
      ]
     },
     "execution_count": 43,
     "metadata": {},
     "output_type": "execute_result"
    }
   ],
   "source": [
    "# # model_class = BertForSequenceClassification\n",
    "# model_class = BertForTokenClassification\n",
    "# pretrained_weights = 'bert-base-uncased'\n",
    "# tokenizer = BertTokenizer.from_pretrained(pretrained_weights)\n",
    "# len(tokenizer)"
   ]
  },
  {
   "cell_type": "code",
   "execution_count": 38,
   "metadata": {},
   "outputs": [],
   "source": [
    "# Models can return full list of hidden-states & attentions weights at each layer\n",
    "model = model_class.from_pretrained(pretrained_weights,\n",
    "                                    output_hidden_states=True,\n",
    "                                    output_attentions=True)"
   ]
  },
  {
   "cell_type": "code",
   "execution_count": 44,
   "metadata": {},
   "outputs": [
    {
     "data": {
      "text/plain": [
       "['this', 'is', 'the', 'text', 'to', 'en', '##code']"
      ]
     },
     "execution_count": 44,
     "metadata": {},
     "output_type": "execute_result"
    }
   ],
   "source": [
    "tokenizer.tokenize(\"This is the text to encode\")"
   ]
  },
  {
   "cell_type": "code",
   "execution_count": 47,
   "metadata": {},
   "outputs": [],
   "source": [
    "# input_ids = torch.tensor([tokenizer.encode(\"This is the text to encode\", add_special_tokens=True)])\n",
    "# all_hidden_states, all_attentions = model(input_ids)[-2:]\n",
    "\n",
    "input_ids = torch.tensor([tokenizer.encode(df[\"example\"][0])])"
   ]
  },
  {
   "cell_type": "code",
   "execution_count": 51,
   "metadata": {},
   "outputs": [],
   "source": [
    "all_hidden_states, all_attentions = model(input_ids)[-2:]"
   ]
  }
 ],
 "metadata": {
  "kernelspec": {
   "display_name": "Python 3",
   "language": "python",
   "name": "python3"
  },
  "language_info": {
   "codemirror_mode": {
    "name": "ipython",
    "version": 3
   },
   "file_extension": ".py",
   "mimetype": "text/x-python",
   "name": "python",
   "nbconvert_exporter": "python",
   "pygments_lexer": "ipython3",
   "version": "3.7.7"
  }
 },
 "nbformat": 4,
 "nbformat_minor": 4
}
