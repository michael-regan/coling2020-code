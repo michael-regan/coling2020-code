{
 "cells": [
  {
   "cell_type": "code",
   "execution_count": 1,
   "metadata": {},
   "outputs": [],
   "source": [
    "import argparse\n",
    "import glob\n",
    "import json\n",
    "import numpy as np\n",
    "import os\n",
    "import pandas as pd\n",
    "from tqdm import tqdm\n",
    "\n",
    "from collections import defaultdict\n",
    "from datetime import datetime"
   ]
  },
  {
   "cell_type": "code",
   "execution_count": 2,
   "metadata": {},
   "outputs": [],
   "source": [
    "path = '/nfs/research/regan/src/data/cooking_dataset/recipes/'"
   ]
  },
  {
   "cell_type": "code",
   "execution_count": 17,
   "metadata": {},
   "outputs": [],
   "source": [
    "def analyze_recipes(path):\n",
    "\n",
    "    os.chdir(path)\n",
    "\n",
    "    for idx, file in enumerate(tqdm(glob.glob(\"*.json\"))):\n",
    "        if idx==1:\n",
    "            with open(file, 'r') as f:\n",
    "                \n",
    "                data = json.load(f)\n",
    "                \n",
    "                print(data[\"events\"])\n",
    "                print()\n",
    "                print(data[\"ingredient_list\"])\n",
    "                print()\n",
    "                print(data[\"ingredients\"])\n",
    "                print()\n",
    "                print(data[\"text\"])\n",
    "                print()\n",
    "\n",
    "                #print(json.dumps(data, indent=2))"
   ]
  },
  {
   "cell_type": "code",
   "execution_count": 18,
   "metadata": {},
   "outputs": [
    {
     "name": "stderr",
     "output_type": "stream",
     "text": [
      "100%|██████████| 111229/111229 [00:00<00:00, 3770839.31it/s]"
     ]
    },
    {
     "name": "stdout",
     "output_type": "stream",
     "text": [
      "{'1': {'cookedness': ['cooked'], 'composition': ['change'], 'temperature': ['hot'], 'location': ['oven']}, '0': {'shape': ['separated']}, '3': {'shape': ['separated'], 'cookedness': ['cooked'], 'temperature': ['hot']}, '2': {'composition': ['change']}, '4': {'location': ['top'], 'composition': ['change']}}\n",
      "\n",
      "['asparagu', 'flour', 'milk', 'salt', 'eggs', 'pepper', 'butter', 'roll']\n",
      "\n",
      "{'1': [6], '0': [7], '3': [0], '2': [1, 2, 6], '4': [7]}\n",
      "\n",
      "{'1': ['remove', 'the', 'crumb', ',', 'dust', 'shells', 'and', 'covers', 'with', 'melted', 'butter', 'and', 'brown', 'in', 'the', 'oven', '.'], '0': ['cut', 'off', 'the', 'tops', 'of', 'the', 'rolls', 'to', 'serve', 'as', 'covers', '.'], '3': ['cut', 'the', 'tender', 'part', 'of', 'the', 'asparagus', 'fine', ',', 'cook', 'a', 'few', 'minutes', 'in', 'the', 'white', 'sauce', ';'], '2': ['make', 'a', 'white', 'sauce', 'of', 'the', 'milk', ',', 'butter', 'and', 'flour', '.'], '4': ['fill', 'the', 'rolls', 'with', 'the', 'mixture', ',', 'place', 'on', 'the', 'tops', 'and', 'serve', 'hot', '.']}\n",
      "\n"
     ]
    },
    {
     "name": "stderr",
     "output_type": "stream",
     "text": [
      "\n"
     ]
    }
   ],
   "source": [
    "analyze_recipes(path)"
   ]
  },
  {
   "cell_type": "code",
   "execution_count": null,
   "metadata": {},
   "outputs": [],
   "source": []
  }
 ],
 "metadata": {
  "kernelspec": {
   "display_name": "Python 3",
   "language": "python",
   "name": "python3"
  },
  "language_info": {
   "codemirror_mode": {
    "name": "ipython",
    "version": 3
   },
   "file_extension": ".py",
   "mimetype": "text/x-python",
   "name": "python",
   "nbconvert_exporter": "python",
   "pygments_lexer": "ipython3",
   "version": "3.7.7"
  }
 },
 "nbformat": 4,
 "nbformat_minor": 4
}
