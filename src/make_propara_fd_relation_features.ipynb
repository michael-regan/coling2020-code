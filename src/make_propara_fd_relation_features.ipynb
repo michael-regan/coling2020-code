{
 "cells": [
  {
   "cell_type": "code",
   "execution_count": 1,
   "metadata": {},
   "outputs": [],
   "source": [
    "import json\n",
    "import pandas as pd\n",
    "from collections import defaultdict"
   ]
  },
  {
   "cell_type": "code",
   "execution_count": 2,
   "metadata": {},
   "outputs": [],
   "source": [
    "path = '/nfs/research/regan/data_propara/data/corenlp_propara_v9.json'"
   ]
  },
  {
   "cell_type": "code",
   "execution_count": 3,
   "metadata": {},
   "outputs": [
    {
     "data": {
      "text/plain": [
       "3521"
      ]
     },
     "execution_count": 3,
     "metadata": {},
     "output_type": "execute_result"
    }
   ],
   "source": [
    "with open(path, 'r') as f:\n",
    "    data = json.load(f)\n",
    "len(data)"
   ]
  },
  {
   "cell_type": "code",
   "execution_count": 4,
   "metadata": {},
   "outputs": [
    {
     "data": {
      "text/plain": [
       "{'pk': '4.3',\n",
       " 'cc': [{'text': 'sediment',\n",
       "   'q_value': 'EXIST',\n",
       "   'index': 12,\n",
       "   'dep': 'nmod',\n",
       "   'fd_relation': 'None',\n",
       "   'fd_subsequent': -1},\n",
       "  {'text': 'sediment',\n",
       "   'q_value': '+MER',\n",
       "   'index': 4,\n",
       "   'dep': 'nmod',\n",
       "   'fd_subsequent': 12,\n",
       "   'fd_relation': 'PTH'}],\n",
       " 'sentence': 'Large amounts of sediment gradually pile on top of original sediment',\n",
       " 'syntax': 'Sbj V PathP',\n",
       " 'fd': 'Autonomous Place',\n",
       " 'domain': 'physical',\n",
       " 'verb': 'pile.01'}"
      ]
     },
     "execution_count": 4,
     "metadata": {},
     "output_type": "execute_result"
    }
   ],
   "source": [
    "def create_causal_chain(features):\n",
    "\n",
    "    for e in features:\n",
    "        if e[\"dep\"] == \"ROOT\":\n",
    "            ents_list = e[\"children\"]\n",
    "            root_index = e[\"index\"]\n",
    "            \n",
    "    entities = []\n",
    "    for e in features:\n",
    "#         if e[\"text\"] in ents_list and e[\"head\"] == root_index:\n",
    "        if \"fd_relation\" in e:\n",
    "            if e[\"fd_relation\"] != \"\":\n",
    "                entity = {\"text\": e[\"text\"], \"q_value\": e[\"q_value\"], \"index\": int(e[\"index\"]), \"dep\": e[\"dep\"]}\n",
    "                if \"fd_subsequent\" in e:\n",
    "                    if int(e[\"fd_subsequent\"]) != -1:\n",
    "                        entity[\"fd_subsequent\"] = int(e[\"fd_subsequent\"])\n",
    "                        entity[\"fd_relation\"] = e[\"fd_relation\"]\n",
    "                    else:\n",
    "                        entity[\"fd_relation\"] = \"None\"  \n",
    "                        entity[\"fd_subsequent\"] = -1\n",
    "#                 else:\n",
    "#                     entity[\"fd_relation\"] = \"None\"\n",
    "\n",
    "                entities.append(entity)\n",
    "            \n",
    "                \n",
    "    def get_preceding_element_in_causal_chain(entities, idx): \n",
    "        for e in entities:\n",
    "            if \"fd_subsequent\" not in e:\n",
    "                print(e)\n",
    "                \n",
    "            elif e[\"fd_subsequent\"] == idx:\n",
    "                next_index = e[\"index\"]\n",
    "                return next_index, e\n",
    "        return None, e\n",
    "        \n",
    "                \n",
    "    ordered_causal_chain = []\n",
    "    all_indices = []\n",
    "    \n",
    "    #print(entities)\n",
    "    for entity in entities:\n",
    "        if len(entity)>1:\n",
    "            ordered_causal_chain.append(entity)\n",
    "            entities.remove(entity)\n",
    "            all_indices.append(entity[\"index\"])\n",
    "            \n",
    "    while all_indices:\n",
    "        idx = all_indices.pop(0)\n",
    "               \n",
    "        for entity in entities:\n",
    "            if entity not in ordered_causal_chain:\n",
    "                next_index, ele = get_preceding_element_in_causal_chain(entities, idx)\n",
    "                if next_index:\n",
    "                    all_indices.append(next_index)\n",
    "                ordered_causal_chain.insert(-1, ele)\n",
    "                #ordered_causal_chain.append(ele)\n",
    "#     print(key, ordered_causal_chain)\n",
    "#     print()\n",
    "    \n",
    "    return ordered_causal_chain\n",
    "\n",
    "all_items = []\n",
    "\n",
    "for k, v in data.items():\n",
    "    \n",
    "    if 'metadata' not in k:\n",
    "\n",
    "        cc = create_causal_chain(v[\"features\"])\n",
    "\n",
    "        if len(cc) > 1:\n",
    "            # meaning that all single-entity events are excluded\n",
    "            fd = v[\"fd1\"] + \" \" + v[\"fd2\"]\n",
    "            if v[\"fd3\"] != \"\":\n",
    "                fd += \" \" + v[\"fd3\"]\n",
    "            item = {\"pk\": k, \n",
    "                    \"cc\": cc, \n",
    "                    \"sentence\": v[\"example\"], \n",
    "                    \"syntax\":v[\"syntax\"], \n",
    "                    \"fd\":fd, \n",
    "                    \"domain\": v[\"domain\"], \n",
    "                   \"verb\": v[\"verb\"]}\n",
    "    #         print(k, item)\n",
    "    #         print()\n",
    "            all_items.append(item)\n",
    "    \n",
    "all_items[2]"
   ]
  },
  {
   "cell_type": "code",
   "execution_count": 5,
   "metadata": {},
   "outputs": [
    {
     "data": {
      "text/plain": [
       "912"
      ]
     },
     "execution_count": 5,
     "metadata": {},
     "output_type": "execute_result"
    }
   ],
   "source": [
    "len(all_items)"
   ]
  },
  {
   "cell_type": "code",
   "execution_count": 12,
   "metadata": {},
   "outputs": [
    {
     "data": {
      "text/plain": [
       "defaultdict(int,\n",
       "            {'None': 973,\n",
       "             'PTH': 455,\n",
       "             'FRC': 373,\n",
       "             'FORM': 113,\n",
       "             'PTH-complex': 37,\n",
       "             'EXP': 5,\n",
       "             'XPR': 1,\n",
       "             'CAUSE': 32,\n",
       "             'INT': 35})"
      ]
     },
     "execution_count": 12,
     "metadata": {},
     "output_type": "execute_result"
    }
   ],
   "source": [
    "def count_number_relations_in_all_items(all_items):\n",
    "    \n",
    "    cnt = defaultdict(int)\n",
    "    for item in all_items:\n",
    "        cc = item['cc']\n",
    "        for c in cc:\n",
    "            cnt[c['fd_relation']] += 1\n",
    "        \n",
    "    return cnt\n",
    "\n",
    "cnt_relations = count_number_relations_in_all_items(all_items) \n",
    "        \n",
    "cnt_relations      "
   ]
  },
  {
   "cell_type": "code",
   "execution_count": 13,
   "metadata": {},
   "outputs": [
    {
     "data": {
      "text/plain": [
       "0.4807312252964427"
      ]
     },
     "execution_count": 13,
     "metadata": {},
     "output_type": "execute_result"
    }
   ],
   "source": [
    "total_cnt = sum([v for v in cnt_relations.values()])\n",
    "\n",
    "cnt_relations[\"None\"]/total_cnt"
   ]
  },
  {
   "cell_type": "code",
   "execution_count": null,
   "metadata": {},
   "outputs": [],
   "source": []
  },
  {
   "cell_type": "code",
   "execution_count": 7,
   "metadata": {},
   "outputs": [],
   "source": [
    "df = pd.DataFrame(all_items)"
   ]
  },
  {
   "cell_type": "code",
   "execution_count": 8,
   "metadata": {},
   "outputs": [
    {
     "data": {
      "text/html": [
       "<div>\n",
       "<style scoped>\n",
       "    .dataframe tbody tr th:only-of-type {\n",
       "        vertical-align: middle;\n",
       "    }\n",
       "\n",
       "    .dataframe tbody tr th {\n",
       "        vertical-align: top;\n",
       "    }\n",
       "\n",
       "    .dataframe thead th {\n",
       "        text-align: right;\n",
       "    }\n",
       "</style>\n",
       "<table border=\"1\" class=\"dataframe\">\n",
       "  <thead>\n",
       "    <tr style=\"text-align: right;\">\n",
       "      <th></th>\n",
       "      <th>pk</th>\n",
       "      <th>cc</th>\n",
       "      <th>sentence</th>\n",
       "      <th>syntax</th>\n",
       "      <th>fd</th>\n",
       "      <th>domain</th>\n",
       "      <th>verb</th>\n",
       "    </tr>\n",
       "  </thead>\n",
       "  <tbody>\n",
       "    <tr>\n",
       "      <th>0</th>\n",
       "      <td>4.1</td>\n",
       "      <td>[{'text': 'sediment', 'q_value': 'EXIST', 'ind...</td>\n",
       "      <td>They are buried in sediment</td>\n",
       "      <td>Sbj V LocP</td>\n",
       "      <td>Autonomous Location</td>\n",
       "      <td>physical_passive</td>\n",
       "      <td>bury.01</td>\n",
       "    </tr>\n",
       "    <tr>\n",
       "      <th>1</th>\n",
       "      <td>4.2</td>\n",
       "      <td>[{'text': 'sediment', 'q_value': 'EXIST', 'ind...</td>\n",
       "      <td>Bacteria is buried in sediment</td>\n",
       "      <td>Sbj V LocP</td>\n",
       "      <td>Autonomous Location</td>\n",
       "      <td>physical_passive</td>\n",
       "      <td>bury.01</td>\n",
       "    </tr>\n",
       "    <tr>\n",
       "      <th>2</th>\n",
       "      <td>4.3</td>\n",
       "      <td>[{'text': 'sediment', 'q_value': 'EXIST', 'ind...</td>\n",
       "      <td>Large amounts of sediment gradually pile on to...</td>\n",
       "      <td>Sbj V PathP</td>\n",
       "      <td>Autonomous Place</td>\n",
       "      <td>physical</td>\n",
       "      <td>pile.01</td>\n",
       "    </tr>\n",
       "    <tr>\n",
       "      <th>3</th>\n",
       "      <td>5.1</td>\n",
       "      <td>[{'text': 'algae', 'q_value': 'COS', 'index': ...</td>\n",
       "      <td>dead algae and plankton end up part of sedimen...</td>\n",
       "      <td>Sbj V Obj</td>\n",
       "      <td>Autonomous COS</td>\n",
       "      <td>physical</td>\n",
       "      <td>end_up.03</td>\n",
       "    </tr>\n",
       "    <tr>\n",
       "      <th>4</th>\n",
       "      <td>5.3</td>\n",
       "      <td>[{'text': 'pressure', 'q_value': 'INTL', 'inde...</td>\n",
       "      <td>bottom layers of sediment become compacted by ...</td>\n",
       "      <td>Sbj V Obj</td>\n",
       "      <td>Physical COS</td>\n",
       "      <td>physical</td>\n",
       "      <td>compact.01</td>\n",
       "    </tr>\n",
       "  </tbody>\n",
       "</table>\n",
       "</div>"
      ],
      "text/plain": [
       "    pk                                                 cc  \\\n",
       "0  4.1  [{'text': 'sediment', 'q_value': 'EXIST', 'ind...   \n",
       "1  4.2  [{'text': 'sediment', 'q_value': 'EXIST', 'ind...   \n",
       "2  4.3  [{'text': 'sediment', 'q_value': 'EXIST', 'ind...   \n",
       "3  5.1  [{'text': 'algae', 'q_value': 'COS', 'index': ...   \n",
       "4  5.3  [{'text': 'pressure', 'q_value': 'INTL', 'inde...   \n",
       "\n",
       "                                            sentence       syntax  \\\n",
       "0                        They are buried in sediment   Sbj V LocP   \n",
       "1                     Bacteria is buried in sediment   Sbj V LocP   \n",
       "2  Large amounts of sediment gradually pile on to...  Sbj V PathP   \n",
       "3  dead algae and plankton end up part of sedimen...    Sbj V Obj   \n",
       "4  bottom layers of sediment become compacted by ...    Sbj V Obj   \n",
       "\n",
       "                    fd            domain        verb  \n",
       "0  Autonomous Location  physical_passive     bury.01  \n",
       "1  Autonomous Location  physical_passive     bury.01  \n",
       "2     Autonomous Place          physical     pile.01  \n",
       "3       Autonomous COS          physical   end_up.03  \n",
       "4         Physical COS          physical  compact.01  "
      ]
     },
     "execution_count": 8,
     "metadata": {},
     "output_type": "execute_result"
    }
   ],
   "source": [
    "df.head()"
   ]
  },
  {
   "cell_type": "code",
   "execution_count": 9,
   "metadata": {},
   "outputs": [
    {
     "data": {
      "text/plain": [
       "[{'text': 'rock',\n",
       "  'q_value': 'DES',\n",
       "  'index': 6,\n",
       "  'dep': 'xcomp',\n",
       "  'fd_relation': 'None',\n",
       "  'fd_subsequent': -1},\n",
       " {'text': 'sediment',\n",
       "  'q_value': 'INTL',\n",
       "  'index': 2,\n",
       "  'dep': 'nsubj',\n",
       "  'fd_subsequent': 6,\n",
       "  'fd_relation': 'FORM'}]"
      ]
     },
     "execution_count": 9,
     "metadata": {},
     "output_type": "execute_result"
    }
   ],
   "source": [
    "df.iloc[119].cc"
   ]
  },
  {
   "cell_type": "code",
   "execution_count": 10,
   "metadata": {},
   "outputs": [],
   "source": [
    "# df.to_pickle(\"~/src/coling2020-code/data/propara_fd_relations_v5.pkl\")"
   ]
  },
  {
   "cell_type": "code",
   "execution_count": null,
   "metadata": {},
   "outputs": [],
   "source": []
  }
 ],
 "metadata": {
  "kernelspec": {
   "display_name": "Python 3",
   "language": "python",
   "name": "python3"
  },
  "language_info": {
   "codemirror_mode": {
    "name": "ipython",
    "version": 3
   },
   "file_extension": ".py",
   "mimetype": "text/x-python",
   "name": "python",
   "nbconvert_exporter": "python",
   "pygments_lexer": "ipython3",
   "version": "3.7.7"
  }
 },
 "nbformat": 4,
 "nbformat_minor": 4
}
