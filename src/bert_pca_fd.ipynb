{
 "cells": [
  {
   "cell_type": "code",
   "execution_count": 1,
   "metadata": {},
   "outputs": [
    {
     "data": {
      "text/plain": [
       "<torch.autograd.grad_mode.set_grad_enabled at 0x7feb3ea79390>"
      ]
     },
     "execution_count": 1,
     "metadata": {},
     "output_type": "execute_result"
    }
   ],
   "source": [
    "import json\n",
    "import torch\n",
    "import pandas as pd\n",
    "from transformers import *\n",
    "\n",
    "#from transformers import AutoModel, AutoTokenizer, BertTokenizer\n",
    "\n",
    "torch.set_grad_enabled(False)"
   ]
  },
  {
   "cell_type": "code",
   "execution_count": 2,
   "metadata": {},
   "outputs": [],
   "source": [
    "path = '/nfs/research/regan/data_propara/data/corenlp_fd_physical_completed.json'"
   ]
  },
  {
   "cell_type": "code",
   "execution_count": 3,
   "metadata": {},
   "outputs": [],
   "source": [
    "# Store the model we want to use\n",
    "MODEL_NAME = \"bert-base-uncased\"\n",
    "\n",
    "# We need to create the model and tokenizer\n",
    "model = AutoModel.from_pretrained(MODEL_NAME)\n",
    "tokenizer = AutoTokenizer.from_pretrained(MODEL_NAME)\n",
    "\n",
    "device = torch.device('cuda' if torch.cuda.is_available() else 'cpu')"
   ]
  },
  {
   "cell_type": "code",
   "execution_count": 5,
   "metadata": {},
   "outputs": [
    {
     "data": {
      "text/plain": [
       "{'vnclass': 'bump-18.4',\n",
       " 'syntax': 'Sbj V PathP',\n",
       " 'fd1': 'Autonomous',\n",
       " 'fd2': 'Place',\n",
       " 'fd3': '',\n",
       " 'example': 'The grocery cart hit against the wall',\n",
       " 'domain': 'Physical',\n",
       " 'pred_calc': '+MER(grocery cart) & PTH(grocery cart,wall)',\n",
       " 'features': [{'text': 'The',\n",
       "   'dep': 'det',\n",
       "   'head': '3',\n",
       "   'lemma': 'the',\n",
       "   'children': [],\n",
       "   'index': '1',\n",
       "   'type': 'O',\n",
       "   'pos': 'DT'},\n",
       "  {'text': 'grocery',\n",
       "   'dep': 'compound',\n",
       "   'head': '3',\n",
       "   'lemma': 'grocery',\n",
       "   'children': [],\n",
       "   'index': '2',\n",
       "   'type': 'O',\n",
       "   'pos': 'NN'},\n",
       "  {'text': 'cart',\n",
       "   'dep': 'nsubj',\n",
       "   'head': '4',\n",
       "   'lemma': 'cart',\n",
       "   'children': ['The', 'grocery'],\n",
       "   'index': '3',\n",
       "   'type': 'O',\n",
       "   'pos': 'NN',\n",
       "   'q_value': '+MER',\n",
       "   'fd_relation': 'PTH',\n",
       "   'fd_subsequent': '7',\n",
       "   'subevent_aspect': 'CycAch'},\n",
       "  {'text': 'hit',\n",
       "   'dep': 'ROOT',\n",
       "   'head': '0',\n",
       "   'lemma': 'hit',\n",
       "   'children': ['cart', 'wall'],\n",
       "   'index': '4',\n",
       "   'type': 'O',\n",
       "   'pos': 'VBD',\n",
       "   'vnclass': '18.4'},\n",
       "  {'text': 'against',\n",
       "   'dep': 'case',\n",
       "   'head': '7',\n",
       "   'lemma': 'against',\n",
       "   'children': [],\n",
       "   'index': '5',\n",
       "   'type': 'O',\n",
       "   'pos': 'IN'},\n",
       "  {'text': 'the',\n",
       "   'dep': 'det',\n",
       "   'head': '7',\n",
       "   'lemma': 'the',\n",
       "   'children': [],\n",
       "   'index': '6',\n",
       "   'type': 'O',\n",
       "   'pos': 'DT'},\n",
       "  {'text': 'wall',\n",
       "   'dep': 'nmod',\n",
       "   'head': '4',\n",
       "   'lemma': 'wall',\n",
       "   'children': ['against', 'the'],\n",
       "   'index': '7',\n",
       "   'type': 'O',\n",
       "   'pos': 'NN',\n",
       "   'subevent_aspect': 'InhStPh',\n",
       "   'q_value': 'EXIST',\n",
       "   'fd_relation': ''}],\n",
       " 'sentence': 'The grocery cart hit against the wall',\n",
       " 'full_pred_calc': 'Theme-of(x,e) & Component-of(a,cart) & Component-of(b,wall) & CycAch(a,i,j,q1) & InhStPh(b,i,k,q2) & +MER(q1) & EXIST(q2) & PTH(a,b)',\n",
       " 'aspect': 'CyclicAchievement'}"
      ]
     },
     "execution_count": 5,
     "metadata": {},
     "output_type": "execute_result"
    }
   ],
   "source": [
    "with open(path, 'r') as f:\n",
    "    data = json.load(f)\n",
    "len(data); data[\"664\"]"
   ]
  },
  {
   "cell_type": "code",
   "execution_count": 17,
   "metadata": {},
   "outputs": [
    {
     "data": {
      "text/plain": [
       "{'cc': [{'text': 'jeweler', 'q_value': 'VOL', 'index': 2, 'fd_subsequent': 6},\n",
       "  {'text': 'NI1', 'q_value': 'INTL', 'index': 6, 'fd_subsequent': 5},\n",
       "  {'text': 'ring', 'q_value': '+MER', 'index': 5}],\n",
       " 'sentence': 'The jeweler decorated the ring',\n",
       " 'syntax': 'Sbj V Obj',\n",
       " 'fd': 'Volitional Provide',\n",
       " 'tokens': [],\n",
       " 'tokens_pt': [],\n",
       " 'tokens_ids': [],\n",
       " 'token_wise_output': [],\n",
       " 'pooled_output': []}"
      ]
     },
     "execution_count": 17,
     "metadata": {},
     "output_type": "execute_result"
    }
   ],
   "source": [
    "def create_causal_chain(features):\n",
    "\n",
    "    for e in features:\n",
    "        if e[\"dep\"] == \"ROOT\":\n",
    "            ents_list = e[\"children\"]\n",
    "            root_index = e[\"index\"]\n",
    "            \n",
    "    entities = []\n",
    "    for e in features:\n",
    "        if e[\"text\"] in ents_list and e[\"head\"] == root_index:\n",
    "            if \"q_value\" in e:\n",
    "                entity = {\"text\": e[\"text\"], \"q_value\": e[\"q_value\"], \"index\": int(e[\"index\"])}\n",
    "                if \"fd_subsequent\" in e:\n",
    "                    if e[\"fd_subsequent\"] != \"\":\n",
    "                        entity[\"fd_subsequent\"] = int(e[\"fd_subsequent\"])\n",
    "                    \n",
    "                entities.append(entity)\n",
    "                \n",
    "    def get_preceding_element_in_causal_chain(entities, idx): \n",
    "        for e in entities:\n",
    "            if e[\"fd_subsequent\"] == idx:\n",
    "                next_index = e[\"index\"]\n",
    "                return next_index, e\n",
    "        return None, e\n",
    "        \n",
    "                \n",
    "    ordered_causal_chain = []\n",
    "    all_indices = []\n",
    "    for entity in entities:\n",
    "        if 'fd_subsequent' not in entity:\n",
    "            ordered_causal_chain.append(entity)\n",
    "            entities.remove(entity)\n",
    "            all_indices.append(entity[\"index\"])\n",
    "            \n",
    "    while all_indices:\n",
    "        idx = all_indices.pop(0)\n",
    "        \n",
    "        for entity in entities:\n",
    "            if entity not in ordered_causal_chain:\n",
    "                next_index, ele = get_preceding_element_in_causal_chain(entities, idx)\n",
    "                if next_index:\n",
    "                    all_indices.append(next_index)\n",
    "                ordered_causal_chain.insert(0, ele)\n",
    "    \n",
    "    return ordered_causal_chain\n",
    "\n",
    "all_items = []\n",
    "\n",
    "for k, v in data.items():\n",
    "\n",
    "    cc = create_causal_chain(v[\"features\"])\n",
    "    fd = v[\"fd1\"] + \" \" + v[\"fd2\"]\n",
    "    if v[\"fd3\"] != \"\":\n",
    "        fd += \" \" + v[\"fd3\"]\n",
    "    item = {\"cc\": cc, \"sentence\": v[\"example\"], \"syntax\":v[\"syntax\"], \"fd\":fd,\n",
    "           \"tokens\":[], \"tokens_pt\":[], \"tokens_ids\": [],\n",
    "            \"token_wise_output\": [], \"pooled_output\": [] }\n",
    "    all_items.append(item)\n",
    "    \n",
    "all_items[200]"
   ]
  },
  {
   "cell_type": "code",
   "execution_count": 21,
   "metadata": {},
   "outputs": [],
   "source": [
    "for item in all_items:\n",
    "    item\n",
    "    # Tokens comes from a process that splits the input into sub-entities with interesting linguistic properties. \n",
    "    tokens = tokenizer.tokenize(item[\"sentence\"])\n",
    "    item[\"tokens\"] = tokens\n",
    "    #print(\"Tokens: {}\".format(tokens))\n",
    "\n",
    "    # This is not sufficient for the model, as it requires integers as input, \n",
    "    # not a problem, let's convert tokens to ids.\n",
    "    tokens_ids = tokenizer.convert_tokens_to_ids(tokens)\n",
    "    item[\"tokens_ids\"] = tokens_ids\n",
    "    #print(\"Tokens id: {}\".format(tokens_ids))\n",
    "\n",
    "    # Add the required special tokens\n",
    "    tokens_ids = tokenizer.build_inputs_with_special_tokens(tokens_ids)\n",
    "    \n",
    "    # We need to convert to a Deep Learning framework specific format, let's use PyTorch for now.\n",
    "    tokens_pt = torch.tensor([tokens_ids])\n",
    "    item[\"tokens_pt\"] = tokens_pt\n",
    "    #print(\"Tokens PyTorch: {}\".format(tokens_pt))\n",
    "\n",
    "    # Now we're ready to go through BERT with out input\n",
    "    outputs, pooled = model(tokens_pt)\n",
    "    #print(\"Token wise output: {}, Pooled output: {}\".format(outputs.shape, pooled.shape))\n",
    "    item[\"token_wise_output\"] = outputs\n",
    "    item[\"pooled_output\"] = pooled\n"
   ]
  },
  {
   "cell_type": "code",
   "execution_count": 22,
   "metadata": {},
   "outputs": [],
   "source": [
    "df = pd.DataFrame(all_items)"
   ]
  },
  {
   "cell_type": "code",
   "execution_count": 23,
   "metadata": {},
   "outputs": [
    {
     "data": {
      "text/html": [
       "<div>\n",
       "<style scoped>\n",
       "    .dataframe tbody tr th:only-of-type {\n",
       "        vertical-align: middle;\n",
       "    }\n",
       "\n",
       "    .dataframe tbody tr th {\n",
       "        vertical-align: top;\n",
       "    }\n",
       "\n",
       "    .dataframe thead th {\n",
       "        text-align: right;\n",
       "    }\n",
       "</style>\n",
       "<table border=\"1\" class=\"dataframe\">\n",
       "  <thead>\n",
       "    <tr style=\"text-align: right;\">\n",
       "      <th></th>\n",
       "      <th>cc</th>\n",
       "      <th>sentence</th>\n",
       "      <th>syntax</th>\n",
       "      <th>fd</th>\n",
       "      <th>tokens</th>\n",
       "      <th>tokens_pt</th>\n",
       "      <th>tokens_ids</th>\n",
       "      <th>token_wise_output</th>\n",
       "      <th>pooled_output</th>\n",
       "    </tr>\n",
       "  </thead>\n",
       "  <tbody>\n",
       "    <tr>\n",
       "      <th>0</th>\n",
       "      <td>[{'text': 'cart', 'q_value': '+MER', 'index': ...</td>\n",
       "      <td>The grocery cart hit against the wall</td>\n",
       "      <td>Sbj V PathP</td>\n",
       "      <td>Autonomous Place</td>\n",
       "      <td>[the, grocery, cart, hit, against, the, wall]</td>\n",
       "      <td>[[tensor(101), tensor(1996), tensor(13025), te...</td>\n",
       "      <td>[1996, 13025, 11122, 2718, 2114, 1996, 2813]</td>\n",
       "      <td>[[[tensor(-0.2603), tensor(0.5590), tensor(-0....</td>\n",
       "      <td>[[tensor(-0.8683), tensor(-0.2977), tensor(-0....</td>\n",
       "    </tr>\n",
       "    <tr>\n",
       "      <th>1</th>\n",
       "      <td>[{'text': 'type', 'q_value': '+MER', 'index': ...</td>\n",
       "      <td>That type of rope coiled easily around the post</td>\n",
       "      <td>Sbj V PathP</td>\n",
       "      <td>Autonomous Place</td>\n",
       "      <td>[that, type, of, rope, coiled, easily, around,...</td>\n",
       "      <td>[[tensor(101), tensor(2008), tensor(2828), ten...</td>\n",
       "      <td>[2008, 2828, 1997, 8164, 24599, 4089, 2105, 19...</td>\n",
       "      <td>[[[tensor(-0.1397), tensor(-0.2141), tensor(0....</td>\n",
       "      <td>[[tensor(-0.7615), tensor(-0.0670), tensor(0.1...</td>\n",
       "    </tr>\n",
       "    <tr>\n",
       "      <th>2</th>\n",
       "      <td>[{'text': 'rope', 'q_value': '+MER', 'index': ...</td>\n",
       "      <td>The rope coiled around the post</td>\n",
       "      <td>Sbj V PathP</td>\n",
       "      <td>Autonomous Place</td>\n",
       "      <td>[the, rope, coiled, around, the, post]</td>\n",
       "      <td>[[tensor(101), tensor(1996), tensor(8164), ten...</td>\n",
       "      <td>[1996, 8164, 24599, 2105, 1996, 2695]</td>\n",
       "      <td>[[[tensor(-0.0777), tensor(0.0408), tensor(0.1...</td>\n",
       "      <td>[[tensor(-0.6512), tensor(-0.0065), tensor(0.7...</td>\n",
       "    </tr>\n",
       "    <tr>\n",
       "      <th>3</th>\n",
       "      <td>[{'text': 'company', 'q_value': '+MER', 'index...</td>\n",
       "      <td>The company is wedging into new markets</td>\n",
       "      <td>Sbj V PathP</td>\n",
       "      <td>Autonomous Place</td>\n",
       "      <td>[the, company, is, wed, ##ging, into, new, mar...</td>\n",
       "      <td>[[tensor(101), tensor(1996), tensor(2194), ten...</td>\n",
       "      <td>[1996, 2194, 2003, 21981, 4726, 2046, 2047, 6089]</td>\n",
       "      <td>[[[tensor(0.0615), tensor(0.1368), tensor(0.30...</td>\n",
       "      <td>[[tensor(-0.8246), tensor(-0.1659), tensor(0.2...</td>\n",
       "    </tr>\n",
       "    <tr>\n",
       "      <th>4</th>\n",
       "      <td>[{'text': 'computer', 'q_value': '+MER', 'inde...</td>\n",
       "      <td>The computer connected well to the network</td>\n",
       "      <td>Sbj V PathP</td>\n",
       "      <td>Autonomous Place</td>\n",
       "      <td>[the, computer, connected, well, to, the, netw...</td>\n",
       "      <td>[[tensor(101), tensor(1996), tensor(3274), ten...</td>\n",
       "      <td>[1996, 3274, 4198, 2092, 2000, 1996, 2897]</td>\n",
       "      <td>[[[tensor(-0.0860), tensor(-0.0513), tensor(0....</td>\n",
       "      <td>[[tensor(-0.6017), tensor(-0.1227), tensor(0.6...</td>\n",
       "    </tr>\n",
       "  </tbody>\n",
       "</table>\n",
       "</div>"
      ],
      "text/plain": [
       "                                                  cc  \\\n",
       "0  [{'text': 'cart', 'q_value': '+MER', 'index': ...   \n",
       "1  [{'text': 'type', 'q_value': '+MER', 'index': ...   \n",
       "2  [{'text': 'rope', 'q_value': '+MER', 'index': ...   \n",
       "3  [{'text': 'company', 'q_value': '+MER', 'index...   \n",
       "4  [{'text': 'computer', 'q_value': '+MER', 'inde...   \n",
       "\n",
       "                                          sentence       syntax  \\\n",
       "0            The grocery cart hit against the wall  Sbj V PathP   \n",
       "1  That type of rope coiled easily around the post  Sbj V PathP   \n",
       "2                  The rope coiled around the post  Sbj V PathP   \n",
       "3          The company is wedging into new markets  Sbj V PathP   \n",
       "4       The computer connected well to the network  Sbj V PathP   \n",
       "\n",
       "                 fd                                             tokens  \\\n",
       "0  Autonomous Place      [the, grocery, cart, hit, against, the, wall]   \n",
       "1  Autonomous Place  [that, type, of, rope, coiled, easily, around,...   \n",
       "2  Autonomous Place             [the, rope, coiled, around, the, post]   \n",
       "3  Autonomous Place  [the, company, is, wed, ##ging, into, new, mar...   \n",
       "4  Autonomous Place  [the, computer, connected, well, to, the, netw...   \n",
       "\n",
       "                                           tokens_pt  \\\n",
       "0  [[tensor(101), tensor(1996), tensor(13025), te...   \n",
       "1  [[tensor(101), tensor(2008), tensor(2828), ten...   \n",
       "2  [[tensor(101), tensor(1996), tensor(8164), ten...   \n",
       "3  [[tensor(101), tensor(1996), tensor(2194), ten...   \n",
       "4  [[tensor(101), tensor(1996), tensor(3274), ten...   \n",
       "\n",
       "                                          tokens_ids  \\\n",
       "0       [1996, 13025, 11122, 2718, 2114, 1996, 2813]   \n",
       "1  [2008, 2828, 1997, 8164, 24599, 4089, 2105, 19...   \n",
       "2              [1996, 8164, 24599, 2105, 1996, 2695]   \n",
       "3  [1996, 2194, 2003, 21981, 4726, 2046, 2047, 6089]   \n",
       "4         [1996, 3274, 4198, 2092, 2000, 1996, 2897]   \n",
       "\n",
       "                                   token_wise_output  \\\n",
       "0  [[[tensor(-0.2603), tensor(0.5590), tensor(-0....   \n",
       "1  [[[tensor(-0.1397), tensor(-0.2141), tensor(0....   \n",
       "2  [[[tensor(-0.0777), tensor(0.0408), tensor(0.1...   \n",
       "3  [[[tensor(0.0615), tensor(0.1368), tensor(0.30...   \n",
       "4  [[[tensor(-0.0860), tensor(-0.0513), tensor(0....   \n",
       "\n",
       "                                       pooled_output  \n",
       "0  [[tensor(-0.8683), tensor(-0.2977), tensor(-0....  \n",
       "1  [[tensor(-0.7615), tensor(-0.0670), tensor(0.1...  \n",
       "2  [[tensor(-0.6512), tensor(-0.0065), tensor(0.7...  \n",
       "3  [[tensor(-0.8246), tensor(-0.1659), tensor(0.2...  \n",
       "4  [[tensor(-0.6017), tensor(-0.1227), tensor(0.6...  "
      ]
     },
     "execution_count": 23,
     "metadata": {},
     "output_type": "execute_result"
    }
   ],
   "source": [
    "df.head()"
   ]
  },
  {
   "cell_type": "code",
   "execution_count": null,
   "metadata": {},
   "outputs": [],
   "source": [
    "df.to_pickle(\"../data/fd_ph\")"
   ]
  },
  {
   "cell_type": "code",
   "execution_count": null,
   "metadata": {},
   "outputs": [],
   "source": []
  },
  {
   "cell_type": "code",
   "execution_count": 43,
   "metadata": {},
   "outputs": [
    {
     "data": {
      "text/plain": [
       "30522"
      ]
     },
     "execution_count": 43,
     "metadata": {},
     "output_type": "execute_result"
    }
   ],
   "source": [
    "# # model_class = BertForSequenceClassification\n",
    "# model_class = BertForTokenClassification\n",
    "# pretrained_weights = 'bert-base-uncased'\n",
    "# tokenizer = BertTokenizer.from_pretrained(pretrained_weights)\n",
    "# len(tokenizer)"
   ]
  },
  {
   "cell_type": "code",
   "execution_count": 38,
   "metadata": {},
   "outputs": [],
   "source": [
    "# Models can return full list of hidden-states & attentions weights at each layer\n",
    "model = model_class.from_pretrained(pretrained_weights,\n",
    "                                    output_hidden_states=True,\n",
    "                                    output_attentions=True)"
   ]
  },
  {
   "cell_type": "code",
   "execution_count": 44,
   "metadata": {},
   "outputs": [
    {
     "data": {
      "text/plain": [
       "['this', 'is', 'the', 'text', 'to', 'en', '##code']"
      ]
     },
     "execution_count": 44,
     "metadata": {},
     "output_type": "execute_result"
    }
   ],
   "source": [
    "tokenizer.tokenize(\"This is the text to encode\")"
   ]
  },
  {
   "cell_type": "code",
   "execution_count": 47,
   "metadata": {},
   "outputs": [],
   "source": [
    "# input_ids = torch.tensor([tokenizer.encode(\"This is the text to encode\", add_special_tokens=True)])\n",
    "# all_hidden_states, all_attentions = model(input_ids)[-2:]\n",
    "\n",
    "input_ids = torch.tensor([tokenizer.encode(df[\"example\"][0])])"
   ]
  },
  {
   "cell_type": "code",
   "execution_count": 51,
   "metadata": {},
   "outputs": [],
   "source": [
    "all_hidden_states, all_attentions = model(input_ids)[-2:]"
   ]
  }
 ],
 "metadata": {
  "kernelspec": {
   "display_name": "Python 3",
   "language": "python",
   "name": "python3"
  },
  "language_info": {
   "codemirror_mode": {
    "name": "ipython",
    "version": 3
   },
   "file_extension": ".py",
   "mimetype": "text/x-python",
   "name": "python",
   "nbconvert_exporter": "python",
   "pygments_lexer": "ipython3",
   "version": "3.7.7"
  }
 },
 "nbformat": 4,
 "nbformat_minor": 4
}
