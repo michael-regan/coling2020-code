{
 "cells": [
  {
   "cell_type": "code",
   "execution_count": 1,
   "metadata": {},
   "outputs": [],
   "source": [
    "import json\n",
    "import numpy as np\n",
    "import pandas as pd\n",
    "from collections import defaultdict as ddict"
   ]
  },
  {
   "cell_type": "code",
   "execution_count": 2,
   "metadata": {},
   "outputs": [],
   "source": [
    "path = '/nfs/research/regan/data_propara/data/corenlp_propara_v9.json'"
   ]
  },
  {
   "cell_type": "code",
   "execution_count": 3,
   "metadata": {},
   "outputs": [
    {
     "data": {
      "text/plain": [
       "3521"
      ]
     },
     "execution_count": 3,
     "metadata": {},
     "output_type": "execute_result"
    }
   ],
   "source": [
    "with open(path, 'r') as f:\n",
    "    data = json.load(f)\n",
    "len(data)"
   ]
  },
  {
   "cell_type": "code",
   "execution_count": 4,
   "metadata": {},
   "outputs": [],
   "source": [
    "def make_df_for_test(data, only_physical=True):\n",
    "    \n",
    "    all_items = []\n",
    "    \n",
    "    for k, v in data.items():\n",
    "        \n",
    "        if 'metadata' not in k:\n",
    "                \n",
    "            if v[\"fd1\"] != '':\n",
    "\n",
    "                sentence = v['example']\n",
    "\n",
    "                features = v['features']\n",
    "                for it in features:\n",
    "                    if 'q_value' in it:\n",
    "                        if it['q_value']!='':\n",
    "\n",
    "                            entity = it['text']\n",
    "                            q_value = it['q_value']\n",
    "\n",
    "                            sent_with_entity = \"<s> \" + sentence + \" </s> </s> \" + entity + \" </s>\"\n",
    "\n",
    "                            item = {\"sentence\":sent_with_entity,'+MER': 0, '-MER':0, 'COS':0, 'DES':0, 'EXIST':0, \n",
    "                                                        'INTL':0, 'MOT':0, 'VOL': 0}\n",
    "\n",
    "                            if \"::\" in q_value:\n",
    "                                q_values = q_value.split(\"::\")\n",
    "                                for q in q_values:\n",
    "                                    if 'PROP' in q:\n",
    "                                        item['COS'] = 1\n",
    "                                    else:\n",
    "                                        item[q] = 1\n",
    "                            else:\n",
    "                                if 'PROP' in q_value:\n",
    "                                    item['COS'] = 1\n",
    "                                else:\n",
    "                                    item[q_value] = 1\n",
    "\n",
    "                    #         if only_physical and d[\"type\"] == \"physical\":\n",
    "                    #             all_items.append(item)\n",
    "                    #         else:\n",
    "                            all_items.append(item)\n",
    "        \n",
    "    return all_items\n",
    "\n",
    "\n",
    "    \n",
    "all_items = make_df_for_test(data, only_physical=False)\n",
    "\n",
    "df_test = pd.DataFrame(all_items)"
   ]
  },
  {
   "cell_type": "code",
   "execution_count": 5,
   "metadata": {},
   "outputs": [
    {
     "data": {
      "text/html": [
       "<div>\n",
       "<style scoped>\n",
       "    .dataframe tbody tr th:only-of-type {\n",
       "        vertical-align: middle;\n",
       "    }\n",
       "\n",
       "    .dataframe tbody tr th {\n",
       "        vertical-align: top;\n",
       "    }\n",
       "\n",
       "    .dataframe thead th {\n",
       "        text-align: right;\n",
       "    }\n",
       "</style>\n",
       "<table border=\"1\" class=\"dataframe\">\n",
       "  <thead>\n",
       "    <tr style=\"text-align: right;\">\n",
       "      <th></th>\n",
       "      <th>sentence</th>\n",
       "      <th>+MER</th>\n",
       "      <th>-MER</th>\n",
       "      <th>COS</th>\n",
       "      <th>DES</th>\n",
       "      <th>EXIST</th>\n",
       "      <th>INTL</th>\n",
       "      <th>MOT</th>\n",
       "      <th>VOL</th>\n",
       "    </tr>\n",
       "  </thead>\n",
       "  <tbody>\n",
       "    <tr>\n",
       "      <th>0</th>\n",
       "      <td>&lt;s&gt; Plants die &lt;/s&gt; &lt;/s&gt; Plants &lt;/s&gt;</td>\n",
       "      <td>0</td>\n",
       "      <td>0</td>\n",
       "      <td>1</td>\n",
       "      <td>0</td>\n",
       "      <td>0</td>\n",
       "      <td>0</td>\n",
       "      <td>0</td>\n",
       "      <td>0</td>\n",
       "    </tr>\n",
       "    <tr>\n",
       "      <th>1</th>\n",
       "      <td>&lt;s&gt; They are buried in sediment &lt;/s&gt; &lt;/s&gt; They...</td>\n",
       "      <td>1</td>\n",
       "      <td>0</td>\n",
       "      <td>0</td>\n",
       "      <td>0</td>\n",
       "      <td>0</td>\n",
       "      <td>0</td>\n",
       "      <td>0</td>\n",
       "      <td>0</td>\n",
       "    </tr>\n",
       "    <tr>\n",
       "      <th>2</th>\n",
       "      <td>&lt;s&gt; They are buried in sediment &lt;/s&gt; &lt;/s&gt; sedi...</td>\n",
       "      <td>0</td>\n",
       "      <td>0</td>\n",
       "      <td>0</td>\n",
       "      <td>0</td>\n",
       "      <td>1</td>\n",
       "      <td>0</td>\n",
       "      <td>0</td>\n",
       "      <td>0</td>\n",
       "    </tr>\n",
       "    <tr>\n",
       "      <th>3</th>\n",
       "      <td>&lt;s&gt; Bacteria is buried in sediment &lt;/s&gt; &lt;/s&gt; B...</td>\n",
       "      <td>1</td>\n",
       "      <td>0</td>\n",
       "      <td>0</td>\n",
       "      <td>0</td>\n",
       "      <td>0</td>\n",
       "      <td>0</td>\n",
       "      <td>0</td>\n",
       "      <td>0</td>\n",
       "    </tr>\n",
       "    <tr>\n",
       "      <th>4</th>\n",
       "      <td>&lt;s&gt; Bacteria is buried in sediment &lt;/s&gt; &lt;/s&gt; s...</td>\n",
       "      <td>0</td>\n",
       "      <td>0</td>\n",
       "      <td>0</td>\n",
       "      <td>0</td>\n",
       "      <td>1</td>\n",
       "      <td>0</td>\n",
       "      <td>0</td>\n",
       "      <td>0</td>\n",
       "    </tr>\n",
       "  </tbody>\n",
       "</table>\n",
       "</div>"
      ],
      "text/plain": [
       "                                            sentence  +MER  -MER  COS  DES  \\\n",
       "0               <s> Plants die </s> </s> Plants </s>     0     0    1    0   \n",
       "1  <s> They are buried in sediment </s> </s> They...     1     0    0    0   \n",
       "2  <s> They are buried in sediment </s> </s> sedi...     0     0    0    0   \n",
       "3  <s> Bacteria is buried in sediment </s> </s> B...     1     0    0    0   \n",
       "4  <s> Bacteria is buried in sediment </s> </s> s...     0     0    0    0   \n",
       "\n",
       "   EXIST  INTL  MOT  VOL  \n",
       "0      0     0    0    0  \n",
       "1      0     0    0    0  \n",
       "2      1     0    0    0  \n",
       "3      0     0    0    0  \n",
       "4      1     0    0    0  "
      ]
     },
     "execution_count": 5,
     "metadata": {},
     "output_type": "execute_result"
    }
   ],
   "source": [
    "df_test.head()"
   ]
  },
  {
   "cell_type": "code",
   "execution_count": 6,
   "metadata": {},
   "outputs": [
    {
     "data": {
      "text/plain": [
       "2370"
      ]
     },
     "execution_count": 6,
     "metadata": {},
     "output_type": "execute_result"
    }
   ],
   "source": [
    "len(df_test)"
   ]
  },
  {
   "cell_type": "code",
   "execution_count": 7,
   "metadata": {},
   "outputs": [
    {
     "name": "stdout",
     "output_type": "stream",
     "text": [
      "number of instances: 2370\n",
      "max count: 2\n",
      "min count: 1\n",
      "avg count: 1.008860759493671\n"
     ]
    }
   ],
   "source": [
    "def check_if_each_instance_has_qvalue(df):\n",
    "    \n",
    "    count_of_qvalues = []\n",
    "    \n",
    "    for idx, row in df.iterrows():\n",
    "        cnt = 0\n",
    "        for i in range(1, 9):\n",
    "            if row[i]==1:\n",
    "                cnt+=1\n",
    "        count_of_qvalues.append(cnt)\n",
    "        \n",
    "    \n",
    "    print(\"number of instances:\", len(count_of_qvalues)) \n",
    "    print(\"max count:\", np.max(count_of_qvalues)) \n",
    "    print(\"min count:\", np.min(count_of_qvalues)) \n",
    "    print(\"avg count:\", np.mean(count_of_qvalues))            \n",
    "            \n",
    "check_if_each_instance_has_qvalue(df_test)"
   ]
  },
  {
   "cell_type": "code",
   "execution_count": 8,
   "metadata": {},
   "outputs": [],
   "source": [
    "json_outfile_path = '../data/propara_q_value_v2.json'\n",
    "\n",
    "# with open(json_outfile_path, 'w') as outfile:\n",
    "#     json.dump(all_items, outfile)"
   ]
  },
  {
   "cell_type": "code",
   "execution_count": 10,
   "metadata": {},
   "outputs": [
    {
     "name": "stdout",
     "output_type": "stream",
     "text": [
      "72\n",
      "0.030379746835443037\n"
     ]
    }
   ],
   "source": [
    "count_volitional = df_test['VOL'].sum()\n",
    "print(count_volitional)\n",
    "print(count_volitional/len(df_test))"
   ]
  },
  {
   "cell_type": "code",
   "execution_count": null,
   "metadata": {},
   "outputs": [],
   "source": []
  }
 ],
 "metadata": {
  "kernelspec": {
   "display_name": "Python 3",
   "language": "python",
   "name": "python3"
  },
  "language_info": {
   "codemirror_mode": {
    "name": "ipython",
    "version": 3
   },
   "file_extension": ".py",
   "mimetype": "text/x-python",
   "name": "python",
   "nbconvert_exporter": "python",
   "pygments_lexer": "ipython3",
   "version": "3.7.7"
  }
 },
 "nbformat": 4,
 "nbformat_minor": 4
}
